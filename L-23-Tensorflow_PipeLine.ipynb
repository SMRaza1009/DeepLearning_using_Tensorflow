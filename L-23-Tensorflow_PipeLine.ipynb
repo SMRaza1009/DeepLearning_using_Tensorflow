{
 "cells": [
  {
   "cell_type": "code",
   "execution_count": 52,
   "id": "729ee34c",
   "metadata": {},
   "outputs": [],
   "source": [
    "import tensorflow as tf"
   ]
  },
  {
   "cell_type": "code",
   "execution_count": 53,
   "id": "f29d5aa2",
   "metadata": {},
   "outputs": [],
   "source": [
    "# Creating random DataSet for general Sales number\n",
    "\n",
    "daily_sales_numbers = [23,15,-120, 21, 55, 32,98,12]"
   ]
  },
  {
   "cell_type": "code",
   "execution_count": 54,
   "id": "254f7899",
   "metadata": {},
   "outputs": [
    {
     "data": {
      "text/plain": [
       "<TensorSliceDataset element_spec=TensorSpec(shape=(), dtype=tf.int32, name=None)>"
      ]
     },
     "execution_count": 54,
     "metadata": {},
     "output_type": "execute_result"
    }
   ],
   "source": [
    "tf_dataset = tf.data.Dataset.from_tensor_slices(daily_sales_numbers)\n",
    "tf_dataset"
   ]
  },
  {
   "cell_type": "code",
   "execution_count": 55,
   "id": "50ac3dd7",
   "metadata": {},
   "outputs": [
    {
     "name": "stdout",
     "output_type": "stream",
     "text": [
      "23\n",
      "15\n",
      "-120\n",
      "21\n",
      "55\n",
      "32\n",
      "98\n",
      "12\n"
     ]
    }
   ],
   "source": [
    "for items in tf_dataset.as_numpy_iterator():\n",
    "#for items in tf_dataset:\n",
    "    print(items)\n",
    "    # You can also convert these objects into number by using Numpy library\n",
    "    #print(items.numpy())"
   ]
  },
  {
   "cell_type": "code",
   "execution_count": 56,
   "id": "9d470135",
   "metadata": {},
   "outputs": [
    {
     "name": "stdout",
     "output_type": "stream",
     "text": [
      "23\n",
      "15\n",
      "-120\n"
     ]
    }
   ],
   "source": [
    "# taking 1st three elements from dataset \n",
    "\n",
    "for items in tf_dataset.take(3):\n",
    "    print(items.numpy())"
   ]
  },
  {
   "cell_type": "code",
   "execution_count": 57,
   "id": "fc4e196d",
   "metadata": {},
   "outputs": [
    {
     "name": "stdout",
     "output_type": "stream",
     "text": [
      "23\n",
      "15\n",
      "21\n",
      "55\n",
      "32\n",
      "98\n",
      "12\n"
     ]
    }
   ],
   "source": [
    "# Filter out -ve data points or correcting the negative values\n",
    "\n",
    "tf_dataset = tf_dataset.filter(lambda x:x>0)\n",
    "for items in tf_dataset.as_numpy_iterator():\n",
    "    print(items)"
   ]
  },
  {
   "cell_type": "code",
   "execution_count": 58,
   "id": "7658422f",
   "metadata": {},
   "outputs": [
    {
     "name": "stdout",
     "output_type": "stream",
     "text": [
      "6624\n",
      "4320\n",
      "6048\n",
      "15840\n",
      "9216\n",
      "28224\n",
      "3456\n"
     ]
    }
   ],
   "source": [
    "# For examples the above sales prices are in Dollars we want to convert these numbers into PKR\n",
    "# $1 = 288 pkr\n",
    "\n",
    "tf_dataset = tf_dataset.map(lambda x: x*288)\n",
    "for items in tf_dataset.as_numpy_iterator():\n",
    "    print(items)"
   ]
  },
  {
   "cell_type": "code",
   "execution_count": 59,
   "id": "f5bfe4a9",
   "metadata": {},
   "outputs": [
    {
     "name": "stdout",
     "output_type": "stream",
     "text": [
      "6624\n",
      "4320\n",
      "15840\n",
      "28224\n",
      "6048\n",
      "9216\n",
      "3456\n"
     ]
    }
   ],
   "source": [
    "# For randomly shuffling dataset , especially it will for image dataset\n",
    "\n",
    "tf_dataset = tf_dataset.shuffle(3)\n",
    "for items in tf_dataset.as_numpy_iterator():\n",
    "    print(items)"
   ]
  },
  {
   "cell_type": "code",
   "execution_count": 60,
   "id": "c52d0625",
   "metadata": {},
   "outputs": [
    {
     "name": "stdout",
     "output_type": "stream",
     "text": [
      "[ 6624 15840  4320 28224]\n",
      "[9216 6048 3456]\n"
     ]
    }
   ],
   "source": [
    "# Batching the dataset\n",
    "\n",
    "for items_batch in tf_dataset.batch(4):\n",
    "    print(items_batch.numpy())"
   ]
  },
  {
   "cell_type": "code",
   "execution_count": 61,
   "id": "9ba5ab5b",
   "metadata": {},
   "outputs": [
    {
     "name": "stdout",
     "output_type": "stream",
     "text": [
      "[ 4320 15840]\n",
      "[6624 6048]\n",
      "[28224  3456]\n",
      "[9216]\n"
     ]
    }
   ],
   "source": [
    "# Doing the above things in one line\n",
    "\n",
    "tf_dataset = tf.data.Dataset.from_tensor_slices(daily_sales_numbers)\n",
    "\n",
    "tf_dataset = tf_dataset.filter(lambda x:x>0).map(lambda y: y*288).shuffle(3).batch(2)\n",
    "\n",
    "for items in tf_dataset.as_numpy_iterator():\n",
    "    print(items)"
   ]
  },
  {
   "cell_type": "code",
   "execution_count": 62,
   "id": "0d1a7be2",
   "metadata": {},
   "outputs": [
    {
     "name": "stdout",
     "output_type": "stream",
     "text": [
      "tf.Tensor(b'images\\\\cat\\\\20 Reasons Why Cats Make the Best Pets....jpg', shape=(), dtype=string)\n",
      "tf.Tensor(b'images\\\\cat\\\\7 Foods Your Cat Can_t Eat.jpg', shape=(), dtype=string)\n",
      "tf.Tensor(b'images\\\\cat\\\\A cat appears to have caught the....jpg', shape=(), dtype=string)\n",
      "tf.Tensor(b'images\\\\cat\\\\Adopt-A-Cat Month\\xc2\\xae - American Humane....jpg', shape=(), dtype=string)\n",
      "tf.Tensor(b'images\\\\cat\\\\All About Your Cat_s Tongue.jpg', shape=(), dtype=string)\n"
     ]
    }
   ],
   "source": [
    "# Building Tensorflow pipeLine\n",
    "\n",
    "images_ds = tf.data.Dataset.list_files('images/*/*', shuffle=False)\n",
    "\n",
    "for files in images_ds.take(5):\n",
    "    print(files)"
   ]
  },
  {
   "cell_type": "code",
   "execution_count": 63,
   "id": "4a9b0fdf",
   "metadata": {},
   "outputs": [
    {
     "name": "stdout",
     "output_type": "stream",
     "text": [
      "b'images\\\\dog\\\\The US Army is testing augmented....jpg'\n",
      "b'images\\\\dog\\\\Subaru Shows Love for Dogs Through the....jpg'\n",
      "b'images\\\\dog\\\\2nd pet dog tests positive for COVID-19....jpg'\n",
      "b'images\\\\dog\\\\Cats and Dogs.jpg'\n",
      "b'images\\\\dog\\\\Trained dogs can smell coronavirus in....jpg'\n"
     ]
    }
   ],
   "source": [
    "# Shuffle Dataset\n",
    "\n",
    "images_ds = images_ds.shuffle(200)\n",
    "\n",
    "for files in images_ds.take(5):\n",
    "    print(files.numpy())"
   ]
  },
  {
   "cell_type": "code",
   "execution_count": 64,
   "id": "64b3d2e5",
   "metadata": {},
   "outputs": [],
   "source": [
    "# Classes name\n",
    "\n",
    "classes_name = ['cat','dog']\n"
   ]
  },
  {
   "cell_type": "code",
   "execution_count": 65,
   "id": "be8bdff1",
   "metadata": {},
   "outputs": [
    {
     "data": {
      "text/plain": [
       "130"
      ]
     },
     "execution_count": 65,
     "metadata": {},
     "output_type": "execute_result"
    }
   ],
   "source": [
    "# For training purpose we have to split the images, in TF we use take function for this purpose\n",
    "\n",
    "image_count = len(images_ds)\n",
    "image_count"
   ]
  },
  {
   "cell_type": "code",
   "execution_count": 66,
   "id": "99a8563f",
   "metadata": {},
   "outputs": [],
   "source": [
    "# Now dividing the dataset in to tarining 80% and testing 20%\n",
    "\n",
    "train_size = int(image_count*0.8)\n",
    "\n",
    "train_ds = images_ds.take(train_size) # It will take 80% of dataset and rest skip the 20% of dataset\n",
    "test_ds = images_ds.skip(train_size)"
   ]
  },
  {
   "cell_type": "code",
   "execution_count": 67,
   "id": "bbfc5434",
   "metadata": {},
   "outputs": [
    {
     "data": {
      "text/plain": [
       "104"
      ]
     },
     "execution_count": 67,
     "metadata": {},
     "output_type": "execute_result"
    }
   ],
   "source": [
    "len(train_ds)"
   ]
  },
  {
   "cell_type": "code",
   "execution_count": 68,
   "id": "8fcb4a86",
   "metadata": {},
   "outputs": [
    {
     "data": {
      "text/plain": [
       "26"
      ]
     },
     "execution_count": 68,
     "metadata": {},
     "output_type": "execute_result"
    }
   ],
   "source": [
    "len(test_ds)"
   ]
  },
  {
   "cell_type": "code",
   "execution_count": 69,
   "id": "729903a3",
   "metadata": {},
   "outputs": [
    {
     "data": {
      "text/plain": [
       "'dog'"
      ]
     },
     "execution_count": 69,
     "metadata": {},
     "output_type": "execute_result"
    }
   ],
   "source": [
    "# In the  image path we already have class label, now we have to retrive that label from string\n",
    "\n",
    "s = 'images\\\\dog\\\\Science_ Talking to Your Dog Means You....jpg'\n",
    "\n",
    "s.split(\"\\\\\")[-2]\n",
    "\n"
   ]
  },
  {
   "cell_type": "code",
   "execution_count": 70,
   "id": "0b535e77",
   "metadata": {},
   "outputs": [],
   "source": [
    "def get_label(file_path):\n",
    "    import os \n",
    "    return tf.strings.split(file_path, os.path.sep)[-2]"
   ]
  },
  {
   "cell_type": "code",
   "execution_count": 71,
   "id": "a00854e9",
   "metadata": {},
   "outputs": [],
   "source": [
    "# To get X_train part\n",
    "\n",
    "def process_image(file_path):\n",
    "    label = get_label(file_path)\n",
    "    \n",
    "    img = tf.io.read_file(file_path)\n",
    "    img = tf.image.decode_jpeg(img)\n",
    "    img = tf.image.resize(img, [128,128])\n",
    "    \n",
    "    return img, label"
   ]
  },
  {
   "cell_type": "code",
   "execution_count": 72,
   "id": "061c29c4",
   "metadata": {},
   "outputs": [
    {
     "name": "stdout",
     "output_type": "stream",
     "text": [
      "b'images\\\\dog\\\\Rescue turns dog with untreatable tumor....jpg'\n",
      "b'images\\\\cat\\\\Cat Advice _ Collecting a Urine Sample....jpg'\n",
      "b'images\\\\dog\\\\Maltese Dog Breed Information_ Pictures....jpg'\n",
      "b'images\\\\dog\\\\10 Teacup Dog Breeds for Tiny Canine Lovers.jpg'\n"
     ]
    }
   ],
   "source": [
    "for t in train_ds.take(4):\n",
    "    print(t.numpy())"
   ]
  },
  {
   "cell_type": "code",
   "execution_count": 73,
   "id": "ef85f9d4",
   "metadata": {},
   "outputs": [
    {
     "name": "stdout",
     "output_type": "stream",
     "text": [
      "Image:  tf.Tensor(\n",
      "[[[178.7539   185.7539   143.7539  ]\n",
      "  [185.875    195.875    161.03125 ]\n",
      "  [185.9375   195.9375   160.98828 ]\n",
      "  ...\n",
      "  [194.875    199.46875  170.6875  ]\n",
      "  [193.01953  197.01953  172.01953 ]\n",
      "  [189.5039   195.       162.34766 ]]\n",
      "\n",
      " [[172.03125  184.28125  140.65625 ]\n",
      "  [189.15625  200.       170.46875 ]\n",
      "  [180.96484  190.96484  156.96484 ]\n",
      "  ...\n",
      "  [192.6289   197.22266  168.4414  ]\n",
      "  [195.0586   199.0586   174.0586  ]\n",
      "  [186.71875  195.71875  167.96875 ]]\n",
      "\n",
      " [[176.38672  187.01172  148.13672 ]\n",
      "  [185.6836   196.52734  166.9961  ]\n",
      "  [180.375    191.03516  155.1914  ]\n",
      "  ...\n",
      "  [195.15234  199.15234  172.66016 ]\n",
      "  [195.47266  199.47266  176.47266 ]\n",
      "  [188.10547  196.10547  173.10547 ]]\n",
      "\n",
      " ...\n",
      "\n",
      " [[160.53516  178.71484   97.796875]\n",
      "  [145.14062  153.9336    98.49609 ]\n",
      "  [144.71484  167.625     96.85156 ]\n",
      "  ...\n",
      "  [176.8164   186.72656  137.9336  ]\n",
      "  [170.52734  175.83984  125.453125]\n",
      "  [180.66406  188.3125   146.8164  ]]\n",
      "\n",
      " [[187.2539   198.08594  133.66797 ]\n",
      "  [170.67969  189.52344  143.73828 ]\n",
      "  [192.07812  211.64844  166.3789  ]\n",
      "  ...\n",
      "  [160.76172  171.3164   128.46875 ]\n",
      "  [161.66016  170.13281  122.078125]\n",
      "  [197.05469  202.23047  170.6289  ]]\n",
      "\n",
      " [[173.41016  197.25     121.03125 ]\n",
      "  [186.64844  197.66016  167.95312 ]\n",
      "  [141.54297  162.17188  110.375   ]\n",
      "  ...\n",
      "  [159.625    165.10547  126.52344 ]\n",
      "  [168.08203  176.92578  132.33984 ]\n",
      "  [185.53125  190.5      158.78125 ]]], shape=(128, 128, 3), dtype=float32)\n",
      "Label:  tf.Tensor(b'dog', shape=(), dtype=string)\n",
      "Image:  tf.Tensor(\n",
      "[[[ 97.74292    172.85962     79.62549   ]\n",
      "  [ 87.83276    148.18213     61.214844  ]\n",
      "  [ 74.36719    131.53491     36.268066  ]\n",
      "  ...\n",
      "  [122.23413    180.99219    103.44507   ]\n",
      "  [104.08423    174.91797     84.8938    ]\n",
      "  [106.85376    169.21973     73.67334   ]]\n",
      "\n",
      " [[ 68.72656    154.07812     41.898438  ]\n",
      "  [ 89.89624    167.39062     63.489502  ]\n",
      "  [103.12207    165.57031     64.660645  ]\n",
      "  ...\n",
      "  [ 96.427734   170.07178     56.606934  ]\n",
      "  [ 89.59717    166.03247     46.940918  ]\n",
      "  [ 94.65747    167.0332      55.45117   ]]\n",
      "\n",
      " [[ 92.49219    166.92188     62.307373  ]\n",
      "  [ 84.176025   166.91016     58.910156  ]\n",
      "  [ 89.89673    168.39111     64.90796   ]\n",
      "  ...\n",
      "  [112.346436   173.46753     50.69409   ]\n",
      "  [ 88.38696    168.92236     37.83252   ]\n",
      "  [ 94.752686   168.67847     45.545654  ]]\n",
      "\n",
      " ...\n",
      "\n",
      " [[ 82.63599    198.73193     53.773926  ]\n",
      "  [ 98.16431    172.1748      50.327637  ]\n",
      "  [ 79.66797    130.45288     25.256104  ]\n",
      "  ...\n",
      "  [ 64.49194    136.80054     40.491943  ]\n",
      "  [ 52.796143   152.5586      10.031006  ]\n",
      "  [ 83.88965    185.70337     23.946777  ]]\n",
      "\n",
      " [[103.68091    198.77466     62.146484  ]\n",
      "  [ 17.034424   102.47925      0.        ]\n",
      "  [ 41.47534    108.572266     0.        ]\n",
      "  ...\n",
      "  [ 73.913574   131.22144     19.628662  ]\n",
      "  [ 81.04834    162.2793      27.116455  ]\n",
      "  [ 92.48511    174.66309     13.7146    ]]\n",
      "\n",
      " [[ 79.02222    158.93652     11.35791   ]\n",
      "  [ 78.73071    162.71509     23.01123   ]\n",
      "  [ 71.038086   147.4729       0.49438477]\n",
      "  ...\n",
      "  [ 28.910889    97.86548      0.80078125]\n",
      "  [ 92.84375    177.49219     87.26953   ]\n",
      "  [ 69.119385   143.89673      1.8654785 ]]], shape=(128, 128, 3), dtype=float32)\n",
      "Label:  tf.Tensor(b'cat', shape=(), dtype=string)\n",
      "Image:  tf.Tensor(\n",
      "[[[132.78125  177.59375  225.40625 ]\n",
      "  [122.5625   172.78125  224.21875 ]\n",
      "  [114.       171.       226.      ]\n",
      "  ...\n",
      "  [103.04468  168.98218  229.01343 ]\n",
      "  [ 98.093994 167.094    226.094   ]\n",
      "  [ 95.17456  163.17456  224.17456 ]]\n",
      "\n",
      " [[130.47632  177.28882  226.28882 ]\n",
      "  [120.5625   172.       225.21875 ]\n",
      "  [112.       169.       224.      ]\n",
      "  ...\n",
      "  [107.00903  169.00903  230.00903 ]\n",
      "  [102.       168.       228.      ]\n",
      "  [ 97.       166.       225.      ]]\n",
      "\n",
      " [[127.693115 176.50562  226.31812 ]\n",
      "  [119.40869  172.74878  227.21875 ]\n",
      "  [112.       169.       224.      ]\n",
      "  ...\n",
      "  [109.03125  170.96875  232.      ]\n",
      "  [105.       169.       230.      ]\n",
      "  [ 99.       168.       225.      ]]\n",
      "\n",
      " ...\n",
      "\n",
      " [[154.625    140.08813   95.109375]\n",
      "  [111.37378  122.52222   83.11597 ]\n",
      "  [116.57495  129.66406   73.778076]\n",
      "  ...\n",
      "  [145.71387  150.06396   62.94214 ]\n",
      "  [145.00269  159.23047   79.99365 ]\n",
      "  [102.4353   126.84155   37.392822]]\n",
      "\n",
      " [[169.67188  159.14844  101.71094 ]\n",
      "  [164.8352   164.62427  101.55469 ]\n",
      "  [109.82202  125.54199   55.013184]\n",
      "  ...\n",
      "  [135.93457  146.73022   52.067383]\n",
      "  [146.57812  152.83667   76.09302 ]\n",
      "  [112.3208   133.3208    40.3208  ]]\n",
      "\n",
      " [[187.24756  171.50269  111.29443 ]\n",
      "  [190.61768  175.28906  100.71094 ]\n",
      "  [115.836914 128.42065   50.638184]\n",
      "  ...\n",
      "  [122.07788  130.56567   46.447266]\n",
      "  [189.9458   185.18774  111.29004 ]\n",
      "  [116.55713  134.39307   30.312256]]], shape=(128, 128, 3), dtype=float32)\n",
      "Label:  tf.Tensor(b'dog', shape=(), dtype=string)\n"
     ]
    }
   ],
   "source": [
    "train_ds = train_ds.map(process_image)\n",
    "for img, label in train_ds.take(3):\n",
    "    print(\"Image: \",img)\n",
    "    print(\"Label: \",label)"
   ]
  },
  {
   "cell_type": "code",
   "execution_count": 74,
   "id": "f64efe9d",
   "metadata": {},
   "outputs": [],
   "source": [
    "# Scale images\n",
    "\n",
    "def scale(image, label):\n",
    "    return image/255, label"
   ]
  },
  {
   "cell_type": "code",
   "execution_count": 75,
   "id": "c077d695",
   "metadata": {},
   "outputs": [
    {
     "name": "stdout",
     "output_type": "stream",
     "text": [
      "*****Image:  [0.14411765 0.14019608 0.1637255 ]\n",
      "*****Label:  b'dog'\n",
      "*****Image:  [0.85505515 0.85505515 0.85505515]\n",
      "*****Label:  b'cat'\n",
      "*****Image:  [0.99607843 0.99607843 0.99607843]\n",
      "*****Label:  b'dog'\n",
      "*****Image:  [0.6349581 0.6433053 0.6313726]\n",
      "*****Label:  b'dog'\n",
      "*****Image:  [0.627451   0.5176471  0.42352942]\n",
      "*****Label:  b'cat'\n"
     ]
    }
   ],
   "source": [
    "train_ds = train_ds.map(scale)\n",
    "\n",
    "for image, label in train_ds.take(5):\n",
    "    print(\"*****Image: \", image.numpy()[0][0])\n",
    "    print(\"*****Label: \", label.numpy())"
   ]
  },
  {
   "cell_type": "code",
   "execution_count": null,
   "id": "faf0caf7",
   "metadata": {},
   "outputs": [],
   "source": []
  }
 ],
 "metadata": {
  "kernelspec": {
   "display_name": "Python 3",
   "language": "python",
   "name": "python3"
  },
  "language_info": {
   "codemirror_mode": {
    "name": "ipython",
    "version": 3
   },
   "file_extension": ".py",
   "mimetype": "text/x-python",
   "name": "python",
   "nbconvert_exporter": "python",
   "pygments_lexer": "ipython3",
   "version": "3.8.8"
  }
 },
 "nbformat": 4,
 "nbformat_minor": 5
}
