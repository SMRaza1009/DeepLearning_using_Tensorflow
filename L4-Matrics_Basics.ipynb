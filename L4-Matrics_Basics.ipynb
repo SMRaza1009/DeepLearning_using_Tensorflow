{
 "cells": [
  {
   "cell_type": "code",
   "execution_count": 1,
   "id": "7f643ad4",
   "metadata": {},
   "outputs": [],
   "source": [
    "import numpy as np"
   ]
  },
  {
   "cell_type": "code",
   "execution_count": 2,
   "id": "49878b69",
   "metadata": {},
   "outputs": [],
   "source": [
    "revenue = np.array([[180,200,220],[24,36,40],[12,18,20]])\n",
    "expenses = np.array([[80,90,100],[10,16,20],[8,10,10]]) "
   ]
  },
  {
   "cell_type": "code",
   "execution_count": 3,
   "id": "a7575c28",
   "metadata": {},
   "outputs": [
    {
     "data": {
      "text/plain": [
       "array([[100, 110, 120],\n",
       "       [ 14,  20,  20],\n",
       "       [  4,   8,  10]])"
      ]
     },
     "execution_count": 3,
     "metadata": {},
     "output_type": "execute_result"
    }
   ],
   "source": [
    "profit = revenue - expenses\n",
    "profit "
   ]
  },
  {
   "cell_type": "code",
   "execution_count": 5,
   "id": "280caa30",
   "metadata": {},
   "outputs": [],
   "source": [
    "#Broadcasting numpy\n",
    "price_per_unit = np.array([1000,400,1200])\n",
    "units = np.array([[30,40,50],[5,10,15],[2,5,7]])\n"
   ]
  },
  {
   "cell_type": "code",
   "execution_count": 8,
   "id": "aa62a407",
   "metadata": {},
   "outputs": [
    {
     "data": {
      "text/plain": [
       "array([34400, 50000, 64400])"
      ]
     },
     "execution_count": 8,
     "metadata": {},
     "output_type": "execute_result"
    }
   ],
   "source": [
    "#ans = price_per_unit * units\n",
    "ans = np.dot(price_per_unit, units)\n",
    "ans"
   ]
  },
  {
   "cell_type": "code",
   "execution_count": 9,
   "id": "bf65fc80",
   "metadata": {},
   "outputs": [
    {
     "data": {
      "text/plain": [
       "array([[15000, 16500, 18750],\n",
       "       [ 5100,  5925,  7875],\n",
       "       [ 8250, 10500, 13500],\n",
       "       [ 6000,  6375,  6750]])"
      ]
     },
     "execution_count": 9,
     "metadata": {},
     "output_type": "execute_result"
    }
   ],
   "source": [
    "# Exercise\n",
    "company_revenue = np.array([[200,220,250],[68,79,105],[110,140,180],[80,85,90]])\n",
    "inr = 75\n",
    "ans2 = np.dot(company_revenue, inr)\n",
    "ans2\n"
   ]
  },
  {
   "cell_type": "code",
   "execution_count": 11,
   "id": "38b2f59b",
   "metadata": {},
   "outputs": [
    {
     "data": {
      "text/plain": [
       "array([[1900, 2640, 1430]])"
      ]
     },
     "execution_count": 11,
     "metadata": {},
     "output_type": "execute_result"
    }
   ],
   "source": [
    "per_unit_price = np.array([[20,30,15]])\n",
    "units_sold= np.array([[50,60,25],[10,13,5],[40,70,52]])\n",
    "\n",
    "ans3 = np.dot(per_unit_price,units_sold)\n",
    "ans3"
   ]
  },
  {
   "cell_type": "code",
   "execution_count": null,
   "id": "13aa5a39",
   "metadata": {},
   "outputs": [],
   "source": []
  }
 ],
 "metadata": {
  "kernelspec": {
   "display_name": "Python 3",
   "language": "python",
   "name": "python3"
  },
  "language_info": {
   "codemirror_mode": {
    "name": "ipython",
    "version": 3
   },
   "file_extension": ".py",
   "mimetype": "text/x-python",
   "name": "python",
   "nbconvert_exporter": "python",
   "pygments_lexer": "ipython3",
   "version": "3.8.8"
  }
 },
 "nbformat": 4,
 "nbformat_minor": 5
}
