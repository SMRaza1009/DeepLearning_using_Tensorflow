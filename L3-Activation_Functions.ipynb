{
 "cells": [
  {
   "cell_type": "code",
   "execution_count": 1,
   "id": "ffa52e82",
   "metadata": {},
   "outputs": [],
   "source": [
    "# Sigmoid Activation function \n",
    "# Output range between 0, 0.1, 0.2,....,0.9 but it occurs vanishing gradient problem\n",
    "# Very helpful in binary classification\n",
    "import math\n",
    "\n",
    "def sigmoid(x):\n",
    "    return 1 / (1 + math.exp(-x))"
   ]
  },
  {
   "cell_type": "code",
   "execution_count": 6,
   "id": "c249ddd0",
   "metadata": {},
   "outputs": [
    {
     "data": {
      "text/plain": [
       "0.7310585786300049"
      ]
     },
     "execution_count": 6,
     "metadata": {},
     "output_type": "execute_result"
    }
   ],
   "source": [
    "sigmoid(1)"
   ]
  },
  {
   "cell_type": "code",
   "execution_count": 7,
   "id": "1ec144e0",
   "metadata": {},
   "outputs": [
    {
     "data": {
      "text/plain": [
       "4.780892883885469e-25"
      ]
     },
     "execution_count": 7,
     "metadata": {},
     "output_type": "execute_result"
    }
   ],
   "source": [
    "sigmoid(-56)"
   ]
  },
  {
   "cell_type": "code",
   "execution_count": 8,
   "id": "628579ac",
   "metadata": {},
   "outputs": [],
   "source": [
    "# tanH activation function\n",
    "# The range of output is between -1 and 1\n",
    "\n",
    "\n",
    "def tanh(x):\n",
    "    return (math.exp(x) - math.exp(-x)) / (math.exp(x) + math.exp(-x))"
   ]
  },
  {
   "cell_type": "code",
   "execution_count": 16,
   "id": "935c1681",
   "metadata": {},
   "outputs": [
    {
     "data": {
      "text/plain": [
       "-1.0"
      ]
     },
     "execution_count": 16,
     "metadata": {},
     "output_type": "execute_result"
    }
   ],
   "source": [
    "tanh(-700)"
   ]
  },
  {
   "cell_type": "code",
   "execution_count": 17,
   "id": "91f1e958",
   "metadata": {},
   "outputs": [],
   "source": [
    "# ReLU activation function try to overcome vanishing gradient problem\n",
    "\n",
    "def relu(x):\n",
    "    return max(0,(x))"
   ]
  },
  {
   "cell_type": "code",
   "execution_count": 18,
   "id": "1c09dc16",
   "metadata": {},
   "outputs": [
    {
     "data": {
      "text/plain": [
       "10"
      ]
     },
     "execution_count": 18,
     "metadata": {},
     "output_type": "execute_result"
    }
   ],
   "source": [
    "relu(10)"
   ]
  },
  {
   "cell_type": "code",
   "execution_count": 19,
   "id": "a56f0132",
   "metadata": {},
   "outputs": [
    {
     "data": {
      "text/plain": [
       "0"
      ]
     },
     "execution_count": 19,
     "metadata": {},
     "output_type": "execute_result"
    }
   ],
   "source": [
    "relu(-10)"
   ]
  },
  {
   "cell_type": "code",
   "execution_count": 20,
   "id": "68303d12",
   "metadata": {},
   "outputs": [],
   "source": [
    "# leaky ReLu \n",
    "# It overcome the problem of VG\n",
    "# Best for using in hidden layers\n",
    "\n",
    "def leakyRelu(x):\n",
    "    return max(0.1*(x),(x))"
   ]
  },
  {
   "cell_type": "code",
   "execution_count": 21,
   "id": "cb1a2b00",
   "metadata": {},
   "outputs": [
    {
     "data": {
      "text/plain": [
       "10"
      ]
     },
     "execution_count": 21,
     "metadata": {},
     "output_type": "execute_result"
    }
   ],
   "source": [
    "leakyRelu(10)"
   ]
  },
  {
   "cell_type": "code",
   "execution_count": 22,
   "id": "eac006ec",
   "metadata": {},
   "outputs": [
    {
     "data": {
      "text/plain": [
       "-1.0"
      ]
     },
     "execution_count": 22,
     "metadata": {},
     "output_type": "execute_result"
    }
   ],
   "source": [
    "leakyRelu(-10)"
   ]
  },
  {
   "cell_type": "code",
   "execution_count": 23,
   "id": "c4f3a38e",
   "metadata": {},
   "outputs": [
    {
     "data": {
      "text/plain": [
       "-5.0"
      ]
     },
     "execution_count": 23,
     "metadata": {},
     "output_type": "execute_result"
    }
   ],
   "source": [
    "leakyRelu(-50)"
   ]
  },
  {
   "cell_type": "code",
   "execution_count": null,
   "id": "19eb20c6",
   "metadata": {},
   "outputs": [],
   "source": []
  }
 ],
 "metadata": {
  "kernelspec": {
   "display_name": "Python 3",
   "language": "python",
   "name": "python3"
  },
  "language_info": {
   "codemirror_mode": {
    "name": "ipython",
    "version": 3
   },
   "file_extension": ".py",
   "mimetype": "text/x-python",
   "name": "python",
   "nbconvert_exporter": "python",
   "pygments_lexer": "ipython3",
   "version": "3.8.8"
  }
 },
 "nbformat": 4,
 "nbformat_minor": 5
}
