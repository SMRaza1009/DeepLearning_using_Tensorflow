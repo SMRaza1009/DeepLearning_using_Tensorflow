{
 "cells": [
  {
   "cell_type": "code",
   "execution_count": 24,
   "id": "f24c3960",
   "metadata": {},
   "outputs": [],
   "source": [
    "# importing libraries\n",
    "import tensorflow_hub as hub\n",
    "import tensorflow_text as text"
   ]
  },
  {
   "cell_type": "code",
   "execution_count": 25,
   "id": "e2e0d206",
   "metadata": {},
   "outputs": [],
   "source": [
    "# Links for preprocessing and bert encider model consist of 12 layers\n",
    "preprocess_url = 'https://tfhub.dev/tensorflow/bert_en_uncased_preprocess/3'\n",
    "encoder_url = 'https://tfhub.dev/tensorflow/bert_en_uncased_L-12_H-768_A-12/4'"
   ]
  },
  {
   "cell_type": "code",
   "execution_count": 26,
   "id": "56e0e5d0",
   "metadata": {},
   "outputs": [
    {
     "name": "stderr",
     "output_type": "stream",
     "text": [
      "2023-05-31 09:24:15.876416: I tensorflow/core/common_runtime/executor.cc:1197] [/device:CPU:0] (DEBUG INFO) Executor start aborting (this does not indicate an error and you can ignore this message): INVALID_ARGUMENT: You must feed a value for placeholder tensor 'seq_length' with dtype int32\n",
      "\t [[{{node seq_length}}]]\n",
      "2023-05-31 09:24:15.877267: I tensorflow/core/common_runtime/executor.cc:1197] [/device:CPU:0] (DEBUG INFO) Executor start aborting (this does not indicate an error and you can ignore this message): INVALID_ARGUMENT: You must feed a value for placeholder tensor 'seq_length' with dtype int32\n",
      "\t [[{{node seq_length}}]]\n",
      "2023-05-31 09:24:15.877436: I tensorflow/core/common_runtime/executor.cc:1197] [/device:CPU:0] (DEBUG INFO) Executor start aborting (this does not indicate an error and you can ignore this message): INVALID_ARGUMENT: You must feed a value for placeholder tensor 'seq_length' with dtype int32\n",
      "\t [[{{node seq_length}}]]\n",
      "2023-05-31 09:24:15.878053: I tensorflow/core/common_runtime/executor.cc:1197] [/device:CPU:0] (DEBUG INFO) Executor start aborting (this does not indicate an error and you can ignore this message): INVALID_ARGUMENT: You must feed a value for placeholder tensor 'seq_length' with dtype int32\n",
      "\t [[{{node seq_length}}]]\n",
      "2023-05-31 09:24:15.878295: I tensorflow/core/common_runtime/executor.cc:1197] [/device:CPU:0] (DEBUG INFO) Executor start aborting (this does not indicate an error and you can ignore this message): INVALID_ARGUMENT: You must feed a value for placeholder tensor 'seq_length' with dtype int32\n",
      "\t [[{{node seq_length}}]]\n",
      "2023-05-31 09:24:15.878415: I tensorflow/core/common_runtime/executor.cc:1197] [/device:CPU:0] (DEBUG INFO) Executor start aborting (this does not indicate an error and you can ignore this message): INVALID_ARGUMENT: You must feed a value for placeholder tensor 'seq_length' with dtype int32\n",
      "\t [[{{node seq_length}}]]\n",
      "2023-05-31 09:24:15.878528: I tensorflow/core/common_runtime/executor.cc:1197] [/device:CPU:0] (DEBUG INFO) Executor start aborting (this does not indicate an error and you can ignore this message): INVALID_ARGUMENT: You must feed a value for placeholder tensor 'seq_length' with dtype int32\n",
      "\t [[{{node seq_length}}]]\n",
      "2023-05-31 09:24:15.992421: I tensorflow/core/common_runtime/executor.cc:1197] [/device:CPU:0] (DEBUG INFO) Executor start aborting (this does not indicate an error and you can ignore this message): INVALID_ARGUMENT: You must feed a value for placeholder tensor 'seq_length' with dtype int32\n",
      "\t [[{{node seq_length}}]]\n",
      "2023-05-31 09:24:15.993681: I tensorflow/core/common_runtime/executor.cc:1197] [/device:CPU:0] (DEBUG INFO) Executor start aborting (this does not indicate an error and you can ignore this message): INVALID_ARGUMENT: You must feed a value for placeholder tensor 'seq_length' with dtype int32\n",
      "\t [[{{node seq_length}}]]\n",
      "2023-05-31 09:24:15.993891: I tensorflow/core/common_runtime/executor.cc:1197] [/device:CPU:0] (DEBUG INFO) Executor start aborting (this does not indicate an error and you can ignore this message): INVALID_ARGUMENT: You must feed a value for placeholder tensor 'seq_length' with dtype int32\n",
      "\t [[{{node seq_length}}]]\n",
      "2023-05-31 09:24:15.995165: I tensorflow/core/common_runtime/executor.cc:1197] [/device:CPU:0] (DEBUG INFO) Executor start aborting (this does not indicate an error and you can ignore this message): INVALID_ARGUMENT: You must feed a value for placeholder tensor 'seq_length' with dtype int32\n",
      "\t [[{{node seq_length}}]]\n",
      "2023-05-31 09:24:15.995464: I tensorflow/core/common_runtime/executor.cc:1197] [/device:CPU:0] (DEBUG INFO) Executor start aborting (this does not indicate an error and you can ignore this message): INVALID_ARGUMENT: You must feed a value for placeholder tensor 'seq_length' with dtype int32\n",
      "\t [[{{node seq_length}}]]\n",
      "2023-05-31 09:24:15.995584: I tensorflow/core/common_runtime/executor.cc:1197] [/device:CPU:0] (DEBUG INFO) Executor start aborting (this does not indicate an error and you can ignore this message): INVALID_ARGUMENT: You must feed a value for placeholder tensor 'seq_length' with dtype int32\n",
      "\t [[{{node seq_length}}]]\n",
      "2023-05-31 09:24:15.995708: I tensorflow/core/common_runtime/executor.cc:1197] [/device:CPU:0] (DEBUG INFO) Executor start aborting (this does not indicate an error and you can ignore this message): INVALID_ARGUMENT: You must feed a value for placeholder tensor 'seq_length' with dtype int32\n",
      "\t [[{{node seq_length}}]]\n",
      "2023-05-31 09:24:16.129035: I tensorflow/core/common_runtime/executor.cc:1197] [/device:CPU:0] (DEBUG INFO) Executor start aborting (this does not indicate an error and you can ignore this message): INVALID_ARGUMENT: You must feed a value for placeholder tensor 'seq_length' with dtype int32\n",
      "\t [[{{node seq_length}}]]\n",
      "2023-05-31 09:24:16.129832: I tensorflow/core/common_runtime/executor.cc:1197] [/device:CPU:0] (DEBUG INFO) Executor start aborting (this does not indicate an error and you can ignore this message): INVALID_ARGUMENT: You must feed a value for placeholder tensor 'seq_length' with dtype int32\n",
      "\t [[{{node seq_length}}]]\n",
      "2023-05-31 09:24:16.129991: I tensorflow/core/common_runtime/executor.cc:1197] [/device:CPU:0] (DEBUG INFO) Executor start aborting (this does not indicate an error and you can ignore this message): INVALID_ARGUMENT: You must feed a value for placeholder tensor 'seq_length' with dtype int32\n",
      "\t [[{{node seq_length}}]]\n",
      "2023-05-31 09:24:16.130506: I tensorflow/core/common_runtime/executor.cc:1197] [/device:CPU:0] (DEBUG INFO) Executor start aborting (this does not indicate an error and you can ignore this message): INVALID_ARGUMENT: You must feed a value for placeholder tensor 'seq_length' with dtype int32\n",
      "\t [[{{node seq_length}}]]\n",
      "2023-05-31 09:24:16.130750: I tensorflow/core/common_runtime/executor.cc:1197] [/device:CPU:0] (DEBUG INFO) Executor start aborting (this does not indicate an error and you can ignore this message): INVALID_ARGUMENT: You must feed a value for placeholder tensor 'seq_length' with dtype int32\n",
      "\t [[{{node seq_length}}]]\n",
      "2023-05-31 09:24:16.130877: I tensorflow/core/common_runtime/executor.cc:1197] [/device:CPU:0] (DEBUG INFO) Executor start aborting (this does not indicate an error and you can ignore this message): INVALID_ARGUMENT: You must feed a value for placeholder tensor 'seq_length' with dtype int32\n",
      "\t [[{{node seq_length}}]]\n",
      "2023-05-31 09:24:16.130995: I tensorflow/core/common_runtime/executor.cc:1197] [/device:CPU:0] (DEBUG INFO) Executor start aborting (this does not indicate an error and you can ignore this message): INVALID_ARGUMENT: You must feed a value for placeholder tensor 'seq_length' with dtype int32\n",
      "\t [[{{node seq_length}}]]\n",
      "2023-05-31 09:24:16.459702: I tensorflow/core/common_runtime/executor.cc:1197] [/device:CPU:0] (DEBUG INFO) Executor start aborting (this does not indicate an error and you can ignore this message): INVALID_ARGUMENT: You must feed a value for placeholder tensor 'seq_length' with dtype int32\n",
      "\t [[{{node seq_length}}]]\n",
      "2023-05-31 09:24:16.460715: I tensorflow/core/common_runtime/executor.cc:1197] [/device:CPU:0] (DEBUG INFO) Executor start aborting (this does not indicate an error and you can ignore this message): INVALID_ARGUMENT: You must feed a value for placeholder tensor 'seq_length' with dtype int32\n",
      "\t [[{{node seq_length}}]]\n",
      "2023-05-31 09:24:16.460870: I tensorflow/core/common_runtime/executor.cc:1197] [/device:CPU:0] (DEBUG INFO) Executor start aborting (this does not indicate an error and you can ignore this message): INVALID_ARGUMENT: You must feed a value for placeholder tensor 'seq_length' with dtype int32\n",
      "\t [[{{node seq_length}}]]\n",
      "2023-05-31 09:24:16.461598: I tensorflow/core/common_runtime/executor.cc:1197] [/device:CPU:0] (DEBUG INFO) Executor start aborting (this does not indicate an error and you can ignore this message): INVALID_ARGUMENT: You must feed a value for placeholder tensor 'seq_length' with dtype int32\n",
      "\t [[{{node seq_length}}]]\n",
      "2023-05-31 09:24:16.461830: I tensorflow/core/common_runtime/executor.cc:1197] [/device:CPU:0] (DEBUG INFO) Executor start aborting (this does not indicate an error and you can ignore this message): INVALID_ARGUMENT: You must feed a value for placeholder tensor 'seq_length' with dtype int32\n",
      "\t [[{{node seq_length}}]]\n",
      "2023-05-31 09:24:16.461948: I tensorflow/core/common_runtime/executor.cc:1197] [/device:CPU:0] (DEBUG INFO) Executor start aborting (this does not indicate an error and you can ignore this message): INVALID_ARGUMENT: You must feed a value for placeholder tensor 'seq_length' with dtype int32\n",
      "\t [[{{node seq_length}}]]\n",
      "2023-05-31 09:24:16.462061: I tensorflow/core/common_runtime/executor.cc:1197] [/device:CPU:0] (DEBUG INFO) Executor start aborting (this does not indicate an error and you can ignore this message): INVALID_ARGUMENT: You must feed a value for placeholder tensor 'seq_length' with dtype int32\n",
      "\t [[{{node seq_length}}]]\n"
     ]
    }
   ],
   "source": [
    "# Using bert pre-processed model\n",
    "\n",
    "bert_preprocess_model = hub.KerasLayer(preprocess_url)"
   ]
  },
  {
   "cell_type": "code",
   "execution_count": 27,
   "id": "e66ca613",
   "metadata": {},
   "outputs": [
    {
     "data": {
      "text/plain": [
       "dict_keys(['input_word_ids', 'input_type_ids', 'input_mask'])"
      ]
     },
     "execution_count": 27,
     "metadata": {},
     "output_type": "execute_result"
    }
   ],
   "source": [
    "# making dummy text to check model accuracy and results\n",
    "\n",
    "test_text = ['I love Python Programming', 'I loved to play complex python programming', 'It was a nice movie indeed']\n",
    "\n",
    "text_preprocessed = bert_preprocess_model(test_text)\n",
    "text_preprocessed.keys()"
   ]
  },
  {
   "cell_type": "code",
   "execution_count": 28,
   "id": "486bd674",
   "metadata": {},
   "outputs": [
    {
     "data": {
      "text/plain": [
       "<tf.Tensor: shape=(3, 128), dtype=int32, numpy=\n",
       "array([[  101,  1045,  2293, 18750,  4730,   102,     0,     0,     0,\n",
       "            0,     0,     0,     0,     0,     0,     0,     0,     0,\n",
       "            0,     0,     0,     0,     0,     0,     0,     0,     0,\n",
       "            0,     0,     0,     0,     0,     0,     0,     0,     0,\n",
       "            0,     0,     0,     0,     0,     0,     0,     0,     0,\n",
       "            0,     0,     0,     0,     0,     0,     0,     0,     0,\n",
       "            0,     0,     0,     0,     0,     0,     0,     0,     0,\n",
       "            0,     0,     0,     0,     0,     0,     0,     0,     0,\n",
       "            0,     0,     0,     0,     0,     0,     0,     0,     0,\n",
       "            0,     0,     0,     0,     0,     0,     0,     0,     0,\n",
       "            0,     0,     0,     0,     0,     0,     0,     0,     0,\n",
       "            0,     0,     0,     0,     0,     0,     0,     0,     0,\n",
       "            0,     0,     0,     0,     0,     0,     0,     0,     0,\n",
       "            0,     0,     0,     0,     0,     0,     0,     0,     0,\n",
       "            0,     0],\n",
       "       [  101,  1045,  3866,  2000,  2377,  3375, 18750,  4730,   102,\n",
       "            0,     0,     0,     0,     0,     0,     0,     0,     0,\n",
       "            0,     0,     0,     0,     0,     0,     0,     0,     0,\n",
       "            0,     0,     0,     0,     0,     0,     0,     0,     0,\n",
       "            0,     0,     0,     0,     0,     0,     0,     0,     0,\n",
       "            0,     0,     0,     0,     0,     0,     0,     0,     0,\n",
       "            0,     0,     0,     0,     0,     0,     0,     0,     0,\n",
       "            0,     0,     0,     0,     0,     0,     0,     0,     0,\n",
       "            0,     0,     0,     0,     0,     0,     0,     0,     0,\n",
       "            0,     0,     0,     0,     0,     0,     0,     0,     0,\n",
       "            0,     0,     0,     0,     0,     0,     0,     0,     0,\n",
       "            0,     0,     0,     0,     0,     0,     0,     0,     0,\n",
       "            0,     0,     0,     0,     0,     0,     0,     0,     0,\n",
       "            0,     0,     0,     0,     0,     0,     0,     0,     0,\n",
       "            0,     0],\n",
       "       [  101,  2009,  2001,  1037,  3835,  3185,  5262,   102,     0,\n",
       "            0,     0,     0,     0,     0,     0,     0,     0,     0,\n",
       "            0,     0,     0,     0,     0,     0,     0,     0,     0,\n",
       "            0,     0,     0,     0,     0,     0,     0,     0,     0,\n",
       "            0,     0,     0,     0,     0,     0,     0,     0,     0,\n",
       "            0,     0,     0,     0,     0,     0,     0,     0,     0,\n",
       "            0,     0,     0,     0,     0,     0,     0,     0,     0,\n",
       "            0,     0,     0,     0,     0,     0,     0,     0,     0,\n",
       "            0,     0,     0,     0,     0,     0,     0,     0,     0,\n",
       "            0,     0,     0,     0,     0,     0,     0,     0,     0,\n",
       "            0,     0,     0,     0,     0,     0,     0,     0,     0,\n",
       "            0,     0,     0,     0,     0,     0,     0,     0,     0,\n",
       "            0,     0,     0,     0,     0,     0,     0,     0,     0,\n",
       "            0,     0,     0,     0,     0,     0,     0,     0,     0,\n",
       "            0,     0]], dtype=int32)>"
      ]
     },
     "execution_count": 28,
     "metadata": {},
     "output_type": "execute_result"
    }
   ],
   "source": [
    "text_preprocessed['input_word_ids']\n",
    "\n"
   ]
  },
  {
   "cell_type": "code",
   "execution_count": 29,
   "id": "ad8e9cad",
   "metadata": {},
   "outputs": [
    {
     "data": {
      "text/plain": [
       "<tf.Tensor: shape=(3, 128), dtype=int32, numpy=\n",
       "array([[1, 1, 1, 1, 1, 1, 0, 0, 0, 0, 0, 0, 0, 0, 0, 0, 0, 0, 0, 0, 0, 0,\n",
       "        0, 0, 0, 0, 0, 0, 0, 0, 0, 0, 0, 0, 0, 0, 0, 0, 0, 0, 0, 0, 0, 0,\n",
       "        0, 0, 0, 0, 0, 0, 0, 0, 0, 0, 0, 0, 0, 0, 0, 0, 0, 0, 0, 0, 0, 0,\n",
       "        0, 0, 0, 0, 0, 0, 0, 0, 0, 0, 0, 0, 0, 0, 0, 0, 0, 0, 0, 0, 0, 0,\n",
       "        0, 0, 0, 0, 0, 0, 0, 0, 0, 0, 0, 0, 0, 0, 0, 0, 0, 0, 0, 0, 0, 0,\n",
       "        0, 0, 0, 0, 0, 0, 0, 0, 0, 0, 0, 0, 0, 0, 0, 0, 0, 0],\n",
       "       [1, 1, 1, 1, 1, 1, 1, 1, 1, 0, 0, 0, 0, 0, 0, 0, 0, 0, 0, 0, 0, 0,\n",
       "        0, 0, 0, 0, 0, 0, 0, 0, 0, 0, 0, 0, 0, 0, 0, 0, 0, 0, 0, 0, 0, 0,\n",
       "        0, 0, 0, 0, 0, 0, 0, 0, 0, 0, 0, 0, 0, 0, 0, 0, 0, 0, 0, 0, 0, 0,\n",
       "        0, 0, 0, 0, 0, 0, 0, 0, 0, 0, 0, 0, 0, 0, 0, 0, 0, 0, 0, 0, 0, 0,\n",
       "        0, 0, 0, 0, 0, 0, 0, 0, 0, 0, 0, 0, 0, 0, 0, 0, 0, 0, 0, 0, 0, 0,\n",
       "        0, 0, 0, 0, 0, 0, 0, 0, 0, 0, 0, 0, 0, 0, 0, 0, 0, 0],\n",
       "       [1, 1, 1, 1, 1, 1, 1, 1, 0, 0, 0, 0, 0, 0, 0, 0, 0, 0, 0, 0, 0, 0,\n",
       "        0, 0, 0, 0, 0, 0, 0, 0, 0, 0, 0, 0, 0, 0, 0, 0, 0, 0, 0, 0, 0, 0,\n",
       "        0, 0, 0, 0, 0, 0, 0, 0, 0, 0, 0, 0, 0, 0, 0, 0, 0, 0, 0, 0, 0, 0,\n",
       "        0, 0, 0, 0, 0, 0, 0, 0, 0, 0, 0, 0, 0, 0, 0, 0, 0, 0, 0, 0, 0, 0,\n",
       "        0, 0, 0, 0, 0, 0, 0, 0, 0, 0, 0, 0, 0, 0, 0, 0, 0, 0, 0, 0, 0, 0,\n",
       "        0, 0, 0, 0, 0, 0, 0, 0, 0, 0, 0, 0, 0, 0, 0, 0, 0, 0]],\n",
       "      dtype=int32)>"
      ]
     },
     "execution_count": 29,
     "metadata": {},
     "output_type": "execute_result"
    }
   ],
   "source": [
    "text_preprocessed['input_mask']"
   ]
  },
  {
   "cell_type": "code",
   "execution_count": 30,
   "id": "8d28e13f",
   "metadata": {},
   "outputs": [
    {
     "data": {
      "text/plain": [
       "<tf.Tensor: shape=(3, 128), dtype=int32, numpy=\n",
       "array([[0, 0, 0, 0, 0, 0, 0, 0, 0, 0, 0, 0, 0, 0, 0, 0, 0, 0, 0, 0, 0, 0,\n",
       "        0, 0, 0, 0, 0, 0, 0, 0, 0, 0, 0, 0, 0, 0, 0, 0, 0, 0, 0, 0, 0, 0,\n",
       "        0, 0, 0, 0, 0, 0, 0, 0, 0, 0, 0, 0, 0, 0, 0, 0, 0, 0, 0, 0, 0, 0,\n",
       "        0, 0, 0, 0, 0, 0, 0, 0, 0, 0, 0, 0, 0, 0, 0, 0, 0, 0, 0, 0, 0, 0,\n",
       "        0, 0, 0, 0, 0, 0, 0, 0, 0, 0, 0, 0, 0, 0, 0, 0, 0, 0, 0, 0, 0, 0,\n",
       "        0, 0, 0, 0, 0, 0, 0, 0, 0, 0, 0, 0, 0, 0, 0, 0, 0, 0],\n",
       "       [0, 0, 0, 0, 0, 0, 0, 0, 0, 0, 0, 0, 0, 0, 0, 0, 0, 0, 0, 0, 0, 0,\n",
       "        0, 0, 0, 0, 0, 0, 0, 0, 0, 0, 0, 0, 0, 0, 0, 0, 0, 0, 0, 0, 0, 0,\n",
       "        0, 0, 0, 0, 0, 0, 0, 0, 0, 0, 0, 0, 0, 0, 0, 0, 0, 0, 0, 0, 0, 0,\n",
       "        0, 0, 0, 0, 0, 0, 0, 0, 0, 0, 0, 0, 0, 0, 0, 0, 0, 0, 0, 0, 0, 0,\n",
       "        0, 0, 0, 0, 0, 0, 0, 0, 0, 0, 0, 0, 0, 0, 0, 0, 0, 0, 0, 0, 0, 0,\n",
       "        0, 0, 0, 0, 0, 0, 0, 0, 0, 0, 0, 0, 0, 0, 0, 0, 0, 0],\n",
       "       [0, 0, 0, 0, 0, 0, 0, 0, 0, 0, 0, 0, 0, 0, 0, 0, 0, 0, 0, 0, 0, 0,\n",
       "        0, 0, 0, 0, 0, 0, 0, 0, 0, 0, 0, 0, 0, 0, 0, 0, 0, 0, 0, 0, 0, 0,\n",
       "        0, 0, 0, 0, 0, 0, 0, 0, 0, 0, 0, 0, 0, 0, 0, 0, 0, 0, 0, 0, 0, 0,\n",
       "        0, 0, 0, 0, 0, 0, 0, 0, 0, 0, 0, 0, 0, 0, 0, 0, 0, 0, 0, 0, 0, 0,\n",
       "        0, 0, 0, 0, 0, 0, 0, 0, 0, 0, 0, 0, 0, 0, 0, 0, 0, 0, 0, 0, 0, 0,\n",
       "        0, 0, 0, 0, 0, 0, 0, 0, 0, 0, 0, 0, 0, 0, 0, 0, 0, 0]],\n",
       "      dtype=int32)>"
      ]
     },
     "execution_count": 30,
     "metadata": {},
     "output_type": "execute_result"
    }
   ],
   "source": [
    "text_preprocessed['input_type_ids']"
   ]
  },
  {
   "cell_type": "code",
   "execution_count": 31,
   "id": "67630b22",
   "metadata": {},
   "outputs": [
    {
     "data": {
      "text/plain": [
       "dict_keys(['pooled_output', 'encoder_outputs', 'default', 'sequence_output'])"
      ]
     },
     "execution_count": 31,
     "metadata": {},
     "output_type": "execute_result"
    }
   ],
   "source": [
    "bert_model = hub.KerasLayer(encoder_url)\n",
    "\n",
    "bert_results = bert_model(text_preprocessed)\n",
    "bert_results.keys()"
   ]
  },
  {
   "cell_type": "code",
   "execution_count": 33,
   "id": "d04aecb4",
   "metadata": {},
   "outputs": [
    {
     "data": {
      "text/plain": [
       "<tf.Tensor: shape=(3, 768), dtype=float32, numpy=\n",
       "array([[-0.917123  , -0.47935185, -0.7865698 , ..., -0.61751753,\n",
       "        -0.71026856,  0.92184293],\n",
       "       [-0.86224216, -0.55005187, -0.82012916, ..., -0.81606275,\n",
       "        -0.7290942 ,  0.9089511 ],\n",
       "       [-0.8356016 , -0.2345947 ,  0.14823484, ..., -0.03222021,\n",
       "        -0.5324523 ,  0.86087686]], dtype=float32)>"
      ]
     },
     "execution_count": 33,
     "metadata": {},
     "output_type": "execute_result"
    }
   ],
   "source": [
    "# array is consist of embedding vector shape consist of sample data size means how many sentences are input and \n",
    "# second parameter is for embedding vector size\n",
    "bert_results['pooled_output']"
   ]
  },
  {
   "cell_type": "code",
   "execution_count": 34,
   "id": "04f10d5b",
   "metadata": {},
   "outputs": [
    {
     "data": {
      "text/plain": [
       "<tf.Tensor: shape=(3, 128, 768), dtype=float32, numpy=\n",
       "array([[[-7.90061355e-02,  3.63351077e-01, -2.11015567e-01, ...,\n",
       "         -1.71837658e-01,  1.62997246e-01,  6.72426701e-01],\n",
       "        [ 2.78835416e-01,  4.37162936e-01, -3.57647479e-01, ...,\n",
       "         -4.46368307e-02,  3.83151978e-01,  5.88798463e-01],\n",
       "        [ 1.20376778e+00,  1.07270265e+00,  4.84087706e-01, ...,\n",
       "          2.49209672e-01,  4.07308996e-01,  4.04818386e-01],\n",
       "        ...,\n",
       "        [ 8.63000378e-02,  1.93538383e-01,  4.75399971e-01, ...,\n",
       "          1.88801542e-01, -6.47412390e-02,  3.13186258e-01],\n",
       "        [ 1.58870488e-01,  2.85726607e-01,  3.73407662e-01, ...,\n",
       "          9.30909142e-02, -4.96959612e-02,  3.87611330e-01],\n",
       "        [-8.07989538e-02, -9.57285762e-02,  2.68097967e-01, ...,\n",
       "          1.39795959e-01, -6.31583482e-02,  2.72883475e-01]],\n",
       "\n",
       "       [[-8.93637240e-02,  1.79800346e-01, -2.82817990e-01, ...,\n",
       "         -6.09668791e-02,  3.29918057e-01,  6.20530188e-01],\n",
       "        [ 5.40217638e-01, -1.02205873e-01, -2.04175770e-01, ...,\n",
       "         -1.22376010e-01,  5.91693878e-01,  2.13626534e-01],\n",
       "        [ 8.93533409e-01,  7.46854097e-02,  2.27116480e-01, ...,\n",
       "          5.84013760e-01,  2.87782550e-01,  7.99577311e-02],\n",
       "        ...,\n",
       "        [ 2.17739791e-01, -5.81254903e-03,  2.30898887e-01, ...,\n",
       "          1.48051292e-01, -1.10261589e-02,  2.95615137e-01],\n",
       "        [ 2.90664792e-01, -1.15778204e-03,  2.85884678e-01, ...,\n",
       "          7.32292831e-02, -7.81299621e-02,  3.15296799e-01],\n",
       "        [ 1.36479214e-01,  3.63559835e-02,  3.10978949e-01, ...,\n",
       "          1.31947219e-01, -7.98349380e-02,  2.69916326e-01]],\n",
       "\n",
       "       [[ 1.07715964e-01, -6.55703247e-02,  1.34278834e-01, ...,\n",
       "         -7.27904662e-02,  2.31612816e-01,  5.71877956e-02],\n",
       "        [ 6.67735487e-02, -5.08293748e-01, -3.03234696e-01, ...,\n",
       "          7.35825226e-02,  1.10435629e+00,  2.43237525e-01],\n",
       "        [-9.35033113e-02, -4.85938191e-01,  2.45026007e-01, ...,\n",
       "          2.67418146e-01,  5.39759815e-01,  3.18073750e-01],\n",
       "        ...,\n",
       "        [ 2.21210107e-01, -7.75604099e-02,  6.21719956e-01, ...,\n",
       "          2.90216655e-01,  2.12280810e-01, -1.07314400e-01],\n",
       "        [ 1.82894513e-01, -9.12079811e-02,  6.82645202e-01, ...,\n",
       "          3.45043153e-01,  2.32668146e-01, -1.21214062e-01],\n",
       "        [ 4.30917479e-02,  2.13234220e-02,  6.58075929e-01, ...,\n",
       "          2.97253966e-01,  8.49887058e-02, -2.63201389e-02]]],\n",
       "      dtype=float32)>"
      ]
     },
     "execution_count": 34,
     "metadata": {},
     "output_type": "execute_result"
    }
   ],
   "source": [
    "bert_results['sequence_output'] # 0 0 0 0 0 0 <---- 128 refers to padding"
   ]
  },
  {
   "cell_type": "code",
   "execution_count": 35,
   "id": "38c7a3c4",
   "metadata": {},
   "outputs": [
    {
     "data": {
      "text/plain": [
       "12"
      ]
     },
     "execution_count": 35,
     "metadata": {},
     "output_type": "execute_result"
    }
   ],
   "source": [
    "len(bert_results['encoder_outputs']) # means 12 layer network"
   ]
  },
  {
   "cell_type": "code",
   "execution_count": 36,
   "id": "0547e211",
   "metadata": {},
   "outputs": [
    {
     "data": {
      "text/plain": [
       "<tf.Tensor: shape=(3, 128, 768), dtype=float32, numpy=\n",
       "array([[[ 0.18903583,  0.02752544, -0.06513746, ..., -0.00620215,\n",
       "          0.15053889,  0.0316544 ],\n",
       "        [ 0.5916147 ,  0.75891376, -0.07240672, ...,  0.6190398 ,\n",
       "          0.8292889 ,  0.16161968],\n",
       "        [ 1.4460827 ,  0.44602665,  0.40990278, ...,  0.48255903,\n",
       "          0.62691146,  0.13463406],\n",
       "        ...,\n",
       "        [ 0.15147889, -0.21573836,  0.7032908 , ..., -0.1253722 ,\n",
       "         -0.13787237,  0.27722055],\n",
       "        [ 0.05143782, -0.24052714,  0.53569144, ..., -0.07915039,\n",
       "         -0.03307901,  0.17380929],\n",
       "        [ 0.20934701, -0.15645269,  0.60395426, ...,  0.3290353 ,\n",
       "         -0.35827202,  0.08100387]],\n",
       "\n",
       "       [[ 0.15421957, -0.00764418, -0.05819117, ..., -0.0169264 ,\n",
       "          0.10595861,  0.03351918],\n",
       "        [ 0.4643292 ,  0.8625841 , -0.12245551, ...,  0.4390656 ,\n",
       "          1.0743841 ,  0.05581968],\n",
       "        [ 0.88278234,  0.14644957,  0.938782  , ..., -0.6667722 ,\n",
       "          0.24359389, -0.09170397],\n",
       "        ...,\n",
       "        [ 0.06376669, -0.18800369,  0.71025467, ...,  0.14591587,\n",
       "         -0.25181824,  0.16541189],\n",
       "        [-0.04383729, -0.19730048,  0.5560341 , ...,  0.1759235 ,\n",
       "         -0.14431813,  0.07556749],\n",
       "        [ 0.09032339, -0.12539499,  0.5974411 , ...,  0.5156845 ,\n",
       "         -0.45454818,  0.01689101]],\n",
       "\n",
       "       [[ 0.14902112,  0.01860964, -0.06073318, ...,  0.13044998,\n",
       "          0.05149009,  0.04841657],\n",
       "        [-0.25374055, -0.38764632,  0.31268105, ...,  0.6894202 ,\n",
       "          0.7007333 ,  0.01111293],\n",
       "        [-0.5959987 , -0.5987955 ,  0.75252664, ..., -0.05388796,\n",
       "          0.10062756,  0.09206377],\n",
       "        ...,\n",
       "        [-0.09204389, -0.21759298,  0.636345  , ...,  0.5444943 ,\n",
       "         -0.19385801,  0.06803902],\n",
       "        [-0.18977731, -0.23934034,  0.5184796 , ...,  0.5707426 ,\n",
       "         -0.09256862, -0.02173521],\n",
       "        [-0.06126401, -0.18978986,  0.5472412 , ...,  0.8456639 ,\n",
       "         -0.3610463 , -0.07786058]]], dtype=float32)>"
      ]
     },
     "execution_count": 36,
     "metadata": {},
     "output_type": "execute_result"
    }
   ],
   "source": [
    "bert_results['encoder_outputs'][0]"
   ]
  },
  {
   "cell_type": "code",
   "execution_count": null,
   "id": "d8e710cd",
   "metadata": {},
   "outputs": [],
   "source": []
  }
 ],
 "metadata": {
  "kernelspec": {
   "display_name": "Python 3 (ipykernel)",
   "language": "python",
   "name": "python3"
  },
  "language_info": {
   "codemirror_mode": {
    "name": "ipython",
    "version": 3
   },
   "file_extension": ".py",
   "mimetype": "text/x-python",
   "name": "python",
   "nbconvert_exporter": "python",
   "pygments_lexer": "ipython3",
   "version": "3.10.11"
  }
 },
 "nbformat": 4,
 "nbformat_minor": 5
}
