{
 "cells": [
  {
   "cell_type": "code",
   "execution_count": 1,
   "id": "e828814e",
   "metadata": {},
   "outputs": [
    {
     "name": "stderr",
     "output_type": "stream",
     "text": [
      "C:\\Users\\user\\anaconda3\\lib\\site-packages\\scipy\\__init__.py:138: UserWarning: A NumPy version >=1.16.5 and <1.23.0 is required for this version of SciPy (detected version 1.23.5)\n",
      "  warnings.warn(f\"A NumPy version >={np_minversion} and <{np_maxversion} is required for this version of \"\n"
     ]
    }
   ],
   "source": [
    "import numpy as np\n",
    "from tensorflow.keras.preprocessing.text import one_hot\n",
    "from tensorflow.keras.preprocessing.sequence import pad_sequences\n",
    "from tensorflow.keras.models import Sequential \n",
    "from tensorflow.keras.layers import Dense\n",
    "from tensorflow.keras.layers import Flatten\n",
    "from tensorflow.keras.layers import Embedding"
   ]
  },
  {
   "cell_type": "code",
   "execution_count": 2,
   "id": "4630bf87",
   "metadata": {},
   "outputs": [],
   "source": [
    "# Food review classification for 10 sample data set\n",
    "reviews = ['nice food',\n",
    "          'amazing restaurant',\n",
    "          'too good',\n",
    "           'just loved it!',\n",
    "          'will go gain',\n",
    "          'horrible food',\n",
    "          'never go there',\n",
    "          'poor service',\n",
    "           'poor quality',\n",
    "          'needs improvement']\n",
    "# Labels for each sample 1 means good and 0 means bad\n",
    "sentiment = np.array([1,1,1,1,1,0,0,0,0,0])"
   ]
  },
  {
   "cell_type": "code",
   "execution_count": 3,
   "id": "b3241666",
   "metadata": {},
   "outputs": [
    {
     "data": {
      "text/plain": [
       "[9, 1]"
      ]
     },
     "execution_count": 3,
     "metadata": {},
     "output_type": "execute_result"
    }
   ],
   "source": [
    "# using one hot vector\n",
    "\n",
    "# the one hot do encoding, takes the review and then you specify the vocabulary size \"30\" it give the number between 1 to 30\n",
    "\n",
    "one_hot(\"amazing restaurant\", 30)\n"
   ]
  },
  {
   "cell_type": "code",
   "execution_count": 7,
   "id": "2c06ae93",
   "metadata": {},
   "outputs": [
    {
     "data": {
      "text/plain": [
       "[[6, 8],\n",
       " [9, 1],\n",
       " [7, 16],\n",
       " [14, 22, 7],\n",
       " [24, 26, 12],\n",
       " [21, 8],\n",
       " [4, 26, 22],\n",
       " [25, 13],\n",
       " [25, 17],\n",
       " [4, 26]]"
      ]
     },
     "execution_count": 7,
     "metadata": {},
     "output_type": "execute_result"
    }
   ],
   "source": [
    "# vocabulary size\n",
    "\n",
    "vocab_size = 30\n",
    "\n",
    "# using list comprehension\n",
    "encoded_reviews = [one_hot(d, vocab_size) for d in reviews]\n",
    "\n",
    "# basically, it will encode the sample dataset review with vocab size from 1 to 30 and make a vector of it.\n",
    "\n",
    "#print(encoded_reviews)\n",
    "\n",
    "encoded_reviews"
   ]
  },
  {
   "cell_type": "code",
   "execution_count": 9,
   "id": "ba5fa7fc",
   "metadata": {},
   "outputs": [
    {
     "data": {
      "text/plain": [
       "array([[ 6,  8,  0],\n",
       "       [ 9,  1,  0],\n",
       "       [ 7, 16,  0],\n",
       "       [14, 22,  7],\n",
       "       [24, 26, 12],\n",
       "       [21,  8,  0],\n",
       "       [ 4, 26, 22],\n",
       "       [25, 13,  0],\n",
       "       [25, 17,  0],\n",
       "       [ 4, 26,  0]])"
      ]
     },
     "execution_count": 9,
     "metadata": {},
     "output_type": "execute_result"
    }
   ],
   "source": [
    "# For 2 and more than 2 word sentence we need padding\n",
    "\n",
    "max_length = 3 # means length of sentence we have in the sample dataset\n",
    "padded_reviews = pad_sequences(encoded_reviews, maxlen=max_length, padding='post')\n",
    "padded_reviews"
   ]
  },
  {
   "cell_type": "code",
   "execution_count": 14,
   "id": "f9f363dc",
   "metadata": {},
   "outputs": [],
   "source": [
    "# making embedding vector for each work\n",
    "\n",
    "embedded_vector_size = 4\n",
    "\n",
    "model = Sequential()\n",
    "\n",
    "# First layer is embedding layer\n",
    "\n",
    "model.add(Embedding(vocab_size, embedded_vector_size, input_length=max_length, name=\"embedding\"))\n",
    "model.add(Flatten())\n",
    "model.add(Dense(1, activation='sigmoid'))"
   ]
  },
  {
   "cell_type": "code",
   "execution_count": 15,
   "id": "6ab7428a",
   "metadata": {},
   "outputs": [],
   "source": [
    "X = padded_reviews\n",
    "y  = sentiment"
   ]
  },
  {
   "cell_type": "code",
   "execution_count": 16,
   "id": "331a4dfb",
   "metadata": {},
   "outputs": [
    {
     "name": "stdout",
     "output_type": "stream",
     "text": [
      "Model: \"sequential_1\"\n",
      "_________________________________________________________________\n",
      " Layer (type)                Output Shape              Param #   \n",
      "=================================================================\n",
      " embedding (Embedding)       (None, 3, 4)              120       \n",
      "                                                                 \n",
      " flatten_1 (Flatten)         (None, 12)                0         \n",
      "                                                                 \n",
      " dense_1 (Dense)             (None, 1)                 13        \n",
      "                                                                 \n",
      "=================================================================\n",
      "Total params: 133\n",
      "Trainable params: 133\n",
      "Non-trainable params: 0\n",
      "_________________________________________________________________\n"
     ]
    }
   ],
   "source": [
    "# Model compilation\n",
    "# The binary_crossentropy because the output will be 0 or 1\n",
    "model.compile(optimizer='adam', loss='binary_crossentropy', metrics=['accuracy'])\n",
    "model.summary()"
   ]
  },
  {
   "cell_type": "code",
   "execution_count": 17,
   "id": "e90b67ca",
   "metadata": {},
   "outputs": [
    {
     "data": {
      "text/plain": [
       "<keras.callbacks.History at 0x1b1e3980af0>"
      ]
     },
     "execution_count": 17,
     "metadata": {},
     "output_type": "execute_result"
    }
   ],
   "source": [
    "model.fit(X,y, epochs=50, verbose=0)"
   ]
  },
  {
   "cell_type": "code",
   "execution_count": 18,
   "id": "d5b4292f",
   "metadata": {},
   "outputs": [
    {
     "name": "stdout",
     "output_type": "stream",
     "text": [
      "1/1 [==============================] - 0s 128ms/step - loss: 0.6299 - accuracy: 0.9000\n"
     ]
    },
    {
     "data": {
      "text/plain": [
       "0.8999999761581421"
      ]
     },
     "execution_count": 18,
     "metadata": {},
     "output_type": "execute_result"
    }
   ],
   "source": [
    "# evaluale the model\n",
    "\n",
    "loss, accuracy = model.evaluate(X,y)\n",
    "accuracy"
   ]
  },
  {
   "cell_type": "code",
   "execution_count": 20,
   "id": "ca36841e",
   "metadata": {},
   "outputs": [
    {
     "data": {
      "text/plain": [
       "30"
      ]
     },
     "execution_count": 20,
     "metadata": {},
     "output_type": "execute_result"
    }
   ],
   "source": [
    "#getting weights of embedding\n",
    "\n",
    "#model.get_layer('embedding').get_weights()[0]\n",
    "\n",
    "weights = model.get_layer('embedding').get_weights()[0]\n",
    "len(weights)"
   ]
  },
  {
   "cell_type": "code",
   "execution_count": 22,
   "id": "538ab7af",
   "metadata": {},
   "outputs": [
    {
     "data": {
      "text/plain": [
       "array([-0.0896238 ,  0.04592543,  0.07529977, -0.05494934], dtype=float32)"
      ]
     },
     "execution_count": 22,
     "metadata": {},
     "output_type": "execute_result"
    }
   ],
   "source": [
    "weights[6]"
   ]
  },
  {
   "cell_type": "code",
   "execution_count": 23,
   "id": "3cfddc11",
   "metadata": {},
   "outputs": [
    {
     "data": {
      "text/plain": [
       "array([-0.10538742,  0.05210855,  0.05932971, -0.04040863], dtype=float32)"
      ]
     },
     "execution_count": 23,
     "metadata": {},
     "output_type": "execute_result"
    }
   ],
   "source": [
    "weights[9]"
   ]
  },
  {
   "cell_type": "code",
   "execution_count": null,
   "id": "d82a2de7",
   "metadata": {},
   "outputs": [],
   "source": []
  }
 ],
 "metadata": {
  "kernelspec": {
   "display_name": "Python 3",
   "language": "python",
   "name": "python3"
  },
  "language_info": {
   "codemirror_mode": {
    "name": "ipython",
    "version": 3
   },
   "file_extension": ".py",
   "mimetype": "text/x-python",
   "name": "python",
   "nbconvert_exporter": "python",
   "pygments_lexer": "ipython3",
   "version": "3.8.8"
  }
 },
 "nbformat": 4,
 "nbformat_minor": 5
}
